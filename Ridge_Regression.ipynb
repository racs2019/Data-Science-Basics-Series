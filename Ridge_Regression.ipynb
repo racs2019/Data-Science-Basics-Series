{
  "nbformat": 4,
  "nbformat_minor": 0,
  "metadata": {
    "colab": {
      "provenance": [],
      "authorship_tag": "ABX9TyOiebU9HKz+u7yJMY+j8IaQ",
      "include_colab_link": true
    },
    "kernelspec": {
      "name": "python3",
      "display_name": "Python 3"
    },
    "language_info": {
      "name": "python"
    }
  },
  "cells": [
    {
      "cell_type": "markdown",
      "metadata": {
        "id": "view-in-github",
        "colab_type": "text"
      },
      "source": [
        "<a href=\"https://colab.research.google.com/github/racs2019/Data-Science-Basics-Series/blob/main/Ridge_Regression.ipynb\" target=\"_parent\"><img src=\"https://colab.research.google.com/assets/colab-badge.svg\" alt=\"Open In Colab\"/></a>"
      ]
    },
    {
      "cell_type": "markdown",
      "source": [
        "#Ridge Regression"
      ],
      "metadata": {
        "id": "X908xitln26p"
      }
    },
    {
      "cell_type": "markdown",
      "source": [
        "![image.png](data:image/png;base64,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)"
      ],
      "metadata": {
        "id": "wFhVR1XcpHFE"
      }
    },
    {
      "cell_type": "markdown",
      "source": [
        "This assignment focuses on creating a batch gradient decent ridge regression model from scratch. Ridge regression is a simple yet classical method for regularizing or 'shrinking' the coefficients of the model. This is achieved by modifying the loss function to focus on balancing finding the optimal coefficients with reducing the complexity of the model."
      ],
      "metadata": {
        "id": "R8cctbXo9ezq"
      }
    },
    {
      "cell_type": "markdown",
      "source": [
        "\n",
        "\n",
        "---\n",
        "\n"
      ],
      "metadata": {
        "id": "FaJ1m5J2pZXo"
      }
    },
    {
      "cell_type": "markdown",
      "source": [
        "##Data, Parameter, and Functions Preparation\n",
        "\n",
        "This section prepares the data from the csv file into numpy arrays and sets up the design and response vectors for vector multiplication in the gradient decent ridge regression algorithm. During this process, any categorical features are transformed to a binary (numerical) representation, and the learning rate (alpha parameter) is defined. Next, the design and response vectors are used to create different dataset cohorts for the full dataset and for the 5-fold cross validation training and validation datasets. Finally, this section creates functions to initialize a beta vector with random values from a uniform distribution between [-1,1), and standardize and center the different data cohorts created after splitting into the full dataset and the 5-fold cross validation dataset. The main ridge regression function which updates the beta parameters is also included in this section."
      ],
      "metadata": {
        "id": "BEnOaPLOpbf4"
      }
    },
    {
      "cell_type": "code",
      "execution_count": null,
      "metadata": {
        "id": "Rgezxl_-eI87"
      },
      "outputs": [],
      "source": [
        "#Dependencies\n",
        "import pandas as pd\n",
        "import numpy as np\n",
        "import copy as cp\n",
        "import matplotlib.pyplot as plt\n",
        "import numpy as np\n",
        "import warnings\n",
        "\n",
        "#Data csv\n",
        "url = 'https://raw.githubusercontent.com/racs2019/CAP-5625-A2-Data/main/Credit_N400_p9.csv'\n",
        "df = pd.read_csv(url)"
      ]
    },
    {
      "cell_type": "code",
      "source": [
        "#Display dataset dataframe\n",
        "df.head()"
      ],
      "metadata": {
        "colab": {
          "base_uri": "https://localhost:8080/",
          "height": 206
        },
        "id": "CtBRc-GFVm5X",
        "outputId": "5354966c-2503-406f-8cac-625e03f3dad3"
      },
      "execution_count": null,
      "outputs": [
        {
          "output_type": "execute_result",
          "data": {
            "text/plain": [
              "    Income  Limit  Rating  Cards  Age  Education  Gender Student Married  \\\n",
              "0   14.891   3606     283      2   34         11    Male      No     Yes   \n",
              "1  106.025   6645     483      3   82         15  Female     Yes     Yes   \n",
              "2  104.593   7075     514      4   71         11    Male      No      No   \n",
              "3  148.924   9504     681      3   36         11  Female      No      No   \n",
              "4   55.882   4897     357      2   68         16    Male      No     Yes   \n",
              "\n",
              "   Balance  \n",
              "0      333  \n",
              "1      903  \n",
              "2      580  \n",
              "3      964  \n",
              "4      331  "
            ],
            "text/html": [
              "\n",
              "  <div id=\"df-7d60a5f4-603d-48b7-828c-00587d5da134\" class=\"colab-df-container\">\n",
              "    <div>\n",
              "<style scoped>\n",
              "    .dataframe tbody tr th:only-of-type {\n",
              "        vertical-align: middle;\n",
              "    }\n",
              "\n",
              "    .dataframe tbody tr th {\n",
              "        vertical-align: top;\n",
              "    }\n",
              "\n",
              "    .dataframe thead th {\n",
              "        text-align: right;\n",
              "    }\n",
              "</style>\n",
              "<table border=\"1\" class=\"dataframe\">\n",
              "  <thead>\n",
              "    <tr style=\"text-align: right;\">\n",
              "      <th></th>\n",
              "      <th>Income</th>\n",
              "      <th>Limit</th>\n",
              "      <th>Rating</th>\n",
              "      <th>Cards</th>\n",
              "      <th>Age</th>\n",
              "      <th>Education</th>\n",
              "      <th>Gender</th>\n",
              "      <th>Student</th>\n",
              "      <th>Married</th>\n",
              "      <th>Balance</th>\n",
              "    </tr>\n",
              "  </thead>\n",
              "  <tbody>\n",
              "    <tr>\n",
              "      <th>0</th>\n",
              "      <td>14.891</td>\n",
              "      <td>3606</td>\n",
              "      <td>283</td>\n",
              "      <td>2</td>\n",
              "      <td>34</td>\n",
              "      <td>11</td>\n",
              "      <td>Male</td>\n",
              "      <td>No</td>\n",
              "      <td>Yes</td>\n",
              "      <td>333</td>\n",
              "    </tr>\n",
              "    <tr>\n",
              "      <th>1</th>\n",
              "      <td>106.025</td>\n",
              "      <td>6645</td>\n",
              "      <td>483</td>\n",
              "      <td>3</td>\n",
              "      <td>82</td>\n",
              "      <td>15</td>\n",
              "      <td>Female</td>\n",
              "      <td>Yes</td>\n",
              "      <td>Yes</td>\n",
              "      <td>903</td>\n",
              "    </tr>\n",
              "    <tr>\n",
              "      <th>2</th>\n",
              "      <td>104.593</td>\n",
              "      <td>7075</td>\n",
              "      <td>514</td>\n",
              "      <td>4</td>\n",
              "      <td>71</td>\n",
              "      <td>11</td>\n",
              "      <td>Male</td>\n",
              "      <td>No</td>\n",
              "      <td>No</td>\n",
              "      <td>580</td>\n",
              "    </tr>\n",
              "    <tr>\n",
              "      <th>3</th>\n",
              "      <td>148.924</td>\n",
              "      <td>9504</td>\n",
              "      <td>681</td>\n",
              "      <td>3</td>\n",
              "      <td>36</td>\n",
              "      <td>11</td>\n",
              "      <td>Female</td>\n",
              "      <td>No</td>\n",
              "      <td>No</td>\n",
              "      <td>964</td>\n",
              "    </tr>\n",
              "    <tr>\n",
              "      <th>4</th>\n",
              "      <td>55.882</td>\n",
              "      <td>4897</td>\n",
              "      <td>357</td>\n",
              "      <td>2</td>\n",
              "      <td>68</td>\n",
              "      <td>16</td>\n",
              "      <td>Male</td>\n",
              "      <td>No</td>\n",
              "      <td>Yes</td>\n",
              "      <td>331</td>\n",
              "    </tr>\n",
              "  </tbody>\n",
              "</table>\n",
              "</div>\n",
              "    <div class=\"colab-df-buttons\">\n",
              "\n",
              "  <div class=\"colab-df-container\">\n",
              "    <button class=\"colab-df-convert\" onclick=\"convertToInteractive('df-7d60a5f4-603d-48b7-828c-00587d5da134')\"\n",
              "            title=\"Convert this dataframe to an interactive table.\"\n",
              "            style=\"display:none;\">\n",
              "\n",
              "  <svg xmlns=\"http://www.w3.org/2000/svg\" height=\"24px\" viewBox=\"0 -960 960 960\">\n",
              "    <path d=\"M120-120v-720h720v720H120Zm60-500h600v-160H180v160Zm220 220h160v-160H400v160Zm0 220h160v-160H400v160ZM180-400h160v-160H180v160Zm440 0h160v-160H620v160ZM180-180h160v-160H180v160Zm440 0h160v-160H620v160Z\"/>\n",
              "  </svg>\n",
              "    </button>\n",
              "\n",
              "  <style>\n",
              "    .colab-df-container {\n",
              "      display:flex;\n",
              "      gap: 12px;\n",
              "    }\n",
              "\n",
              "    .colab-df-convert {\n",
              "      background-color: #E8F0FE;\n",
              "      border: none;\n",
              "      border-radius: 50%;\n",
              "      cursor: pointer;\n",
              "      display: none;\n",
              "      fill: #1967D2;\n",
              "      height: 32px;\n",
              "      padding: 0 0 0 0;\n",
              "      width: 32px;\n",
              "    }\n",
              "\n",
              "    .colab-df-convert:hover {\n",
              "      background-color: #E2EBFA;\n",
              "      box-shadow: 0px 1px 2px rgba(60, 64, 67, 0.3), 0px 1px 3px 1px rgba(60, 64, 67, 0.15);\n",
              "      fill: #174EA6;\n",
              "    }\n",
              "\n",
              "    .colab-df-buttons div {\n",
              "      margin-bottom: 4px;\n",
              "    }\n",
              "\n",
              "    [theme=dark] .colab-df-convert {\n",
              "      background-color: #3B4455;\n",
              "      fill: #D2E3FC;\n",
              "    }\n",
              "\n",
              "    [theme=dark] .colab-df-convert:hover {\n",
              "      background-color: #434B5C;\n",
              "      box-shadow: 0px 1px 3px 1px rgba(0, 0, 0, 0.15);\n",
              "      filter: drop-shadow(0px 1px 2px rgba(0, 0, 0, 0.3));\n",
              "      fill: #FFFFFF;\n",
              "    }\n",
              "  </style>\n",
              "\n",
              "    <script>\n",
              "      const buttonEl =\n",
              "        document.querySelector('#df-7d60a5f4-603d-48b7-828c-00587d5da134 button.colab-df-convert');\n",
              "      buttonEl.style.display =\n",
              "        google.colab.kernel.accessAllowed ? 'block' : 'none';\n",
              "\n",
              "      async function convertToInteractive(key) {\n",
              "        const element = document.querySelector('#df-7d60a5f4-603d-48b7-828c-00587d5da134');\n",
              "        const dataTable =\n",
              "          await google.colab.kernel.invokeFunction('convertToInteractive',\n",
              "                                                    [key], {});\n",
              "        if (!dataTable) return;\n",
              "\n",
              "        const docLinkHtml = 'Like what you see? Visit the ' +\n",
              "          '<a target=\"_blank\" href=https://colab.research.google.com/notebooks/data_table.ipynb>data table notebook</a>'\n",
              "          + ' to learn more about interactive tables.';\n",
              "        element.innerHTML = '';\n",
              "        dataTable['output_type'] = 'display_data';\n",
              "        await google.colab.output.renderOutput(dataTable, element);\n",
              "        const docLink = document.createElement('div');\n",
              "        docLink.innerHTML = docLinkHtml;\n",
              "        element.appendChild(docLink);\n",
              "      }\n",
              "    </script>\n",
              "  </div>\n",
              "\n",
              "\n",
              "<div id=\"df-55222b5f-345c-4219-934d-9b8dbffe4709\">\n",
              "  <button class=\"colab-df-quickchart\" onclick=\"quickchart('df-55222b5f-345c-4219-934d-9b8dbffe4709')\"\n",
              "            title=\"Suggest charts.\"\n",
              "            style=\"display:none;\">\n",
              "\n",
              "<svg xmlns=\"http://www.w3.org/2000/svg\" height=\"24px\"viewBox=\"0 0 24 24\"\n",
              "     width=\"24px\">\n",
              "    <g>\n",
              "        <path d=\"M19 3H5c-1.1 0-2 .9-2 2v14c0 1.1.9 2 2 2h14c1.1 0 2-.9 2-2V5c0-1.1-.9-2-2-2zM9 17H7v-7h2v7zm4 0h-2V7h2v10zm4 0h-2v-4h2v4z\"/>\n",
              "    </g>\n",
              "</svg>\n",
              "  </button>\n",
              "\n",
              "<style>\n",
              "  .colab-df-quickchart {\n",
              "      --bg-color: #E8F0FE;\n",
              "      --fill-color: #1967D2;\n",
              "      --hover-bg-color: #E2EBFA;\n",
              "      --hover-fill-color: #174EA6;\n",
              "      --disabled-fill-color: #AAA;\n",
              "      --disabled-bg-color: #DDD;\n",
              "  }\n",
              "\n",
              "  [theme=dark] .colab-df-quickchart {\n",
              "      --bg-color: #3B4455;\n",
              "      --fill-color: #D2E3FC;\n",
              "      --hover-bg-color: #434B5C;\n",
              "      --hover-fill-color: #FFFFFF;\n",
              "      --disabled-bg-color: #3B4455;\n",
              "      --disabled-fill-color: #666;\n",
              "  }\n",
              "\n",
              "  .colab-df-quickchart {\n",
              "    background-color: var(--bg-color);\n",
              "    border: none;\n",
              "    border-radius: 50%;\n",
              "    cursor: pointer;\n",
              "    display: none;\n",
              "    fill: var(--fill-color);\n",
              "    height: 32px;\n",
              "    padding: 0;\n",
              "    width: 32px;\n",
              "  }\n",
              "\n",
              "  .colab-df-quickchart:hover {\n",
              "    background-color: var(--hover-bg-color);\n",
              "    box-shadow: 0 1px 2px rgba(60, 64, 67, 0.3), 0 1px 3px 1px rgba(60, 64, 67, 0.15);\n",
              "    fill: var(--button-hover-fill-color);\n",
              "  }\n",
              "\n",
              "  .colab-df-quickchart-complete:disabled,\n",
              "  .colab-df-quickchart-complete:disabled:hover {\n",
              "    background-color: var(--disabled-bg-color);\n",
              "    fill: var(--disabled-fill-color);\n",
              "    box-shadow: none;\n",
              "  }\n",
              "\n",
              "  .colab-df-spinner {\n",
              "    border: 2px solid var(--fill-color);\n",
              "    border-color: transparent;\n",
              "    border-bottom-color: var(--fill-color);\n",
              "    animation:\n",
              "      spin 1s steps(1) infinite;\n",
              "  }\n",
              "\n",
              "  @keyframes spin {\n",
              "    0% {\n",
              "      border-color: transparent;\n",
              "      border-bottom-color: var(--fill-color);\n",
              "      border-left-color: var(--fill-color);\n",
              "    }\n",
              "    20% {\n",
              "      border-color: transparent;\n",
              "      border-left-color: var(--fill-color);\n",
              "      border-top-color: var(--fill-color);\n",
              "    }\n",
              "    30% {\n",
              "      border-color: transparent;\n",
              "      border-left-color: var(--fill-color);\n",
              "      border-top-color: var(--fill-color);\n",
              "      border-right-color: var(--fill-color);\n",
              "    }\n",
              "    40% {\n",
              "      border-color: transparent;\n",
              "      border-right-color: var(--fill-color);\n",
              "      border-top-color: var(--fill-color);\n",
              "    }\n",
              "    60% {\n",
              "      border-color: transparent;\n",
              "      border-right-color: var(--fill-color);\n",
              "    }\n",
              "    80% {\n",
              "      border-color: transparent;\n",
              "      border-right-color: var(--fill-color);\n",
              "      border-bottom-color: var(--fill-color);\n",
              "    }\n",
              "    90% {\n",
              "      border-color: transparent;\n",
              "      border-bottom-color: var(--fill-color);\n",
              "    }\n",
              "  }\n",
              "</style>\n",
              "\n",
              "  <script>\n",
              "    async function quickchart(key) {\n",
              "      const quickchartButtonEl =\n",
              "        document.querySelector('#' + key + ' button');\n",
              "      quickchartButtonEl.disabled = true;  // To prevent multiple clicks.\n",
              "      quickchartButtonEl.classList.add('colab-df-spinner');\n",
              "      try {\n",
              "        const charts = await google.colab.kernel.invokeFunction(\n",
              "            'suggestCharts', [key], {});\n",
              "      } catch (error) {\n",
              "        console.error('Error during call to suggestCharts:', error);\n",
              "      }\n",
              "      quickchartButtonEl.classList.remove('colab-df-spinner');\n",
              "      quickchartButtonEl.classList.add('colab-df-quickchart-complete');\n",
              "    }\n",
              "    (() => {\n",
              "      let quickchartButtonEl =\n",
              "        document.querySelector('#df-55222b5f-345c-4219-934d-9b8dbffe4709 button');\n",
              "      quickchartButtonEl.style.display =\n",
              "        google.colab.kernel.accessAllowed ? 'block' : 'none';\n",
              "    })();\n",
              "  </script>\n",
              "</div>\n",
              "    </div>\n",
              "  </div>\n"
            ]
          },
          "metadata": {},
          "execution_count": 2
        }
      ]
    },
    {
      "cell_type": "code",
      "source": [
        "#Convert cagetory features (gender, student, married) to binary encoding\n",
        "warnings.filterwarnings('ignore')\n",
        "\n",
        "for x in range(0,len(df)):\n",
        "  if df['Gender'][x] == 'Female':\n",
        "    df['Gender'][x] = 0\n",
        "  elif df['Gender'][x] == 'Male':\n",
        "    df['Gender'][x] = 1\n",
        "\n",
        "for x in range(0,len(df)):\n",
        "  if df['Student'][x] == 'No':\n",
        "    df['Student'][x] = 0\n",
        "  elif df['Student'][x] == 'Yes':\n",
        "    df['Student'][x] = 1\n",
        "\n",
        "for x in range(0,len(df)):\n",
        "  if df['Married'][x] == 'No':\n",
        "    df['Married'][x] = 0\n",
        "  elif df['Married'][x] == 'Yes':\n",
        "    df['Married'][x] = 1"
      ],
      "metadata": {
        "id": "5ufTHWi2W4Ey"
      },
      "execution_count": null,
      "outputs": []
    },
    {
      "cell_type": "code",
      "source": [
        "#Display dataset after converting categorical features\n",
        "df.head()"
      ],
      "metadata": {
        "colab": {
          "base_uri": "https://localhost:8080/",
          "height": 206
        },
        "id": "En5f-HJUpClg",
        "outputId": "acf6cb6c-c625-46b4-829b-a8f17bc795d4"
      },
      "execution_count": null,
      "outputs": [
        {
          "output_type": "execute_result",
          "data": {
            "text/plain": [
              "    Income  Limit  Rating  Cards  Age  Education Gender Student Married  \\\n",
              "0   14.891   3606     283      2   34         11      1       0       1   \n",
              "1  106.025   6645     483      3   82         15      0       1       1   \n",
              "2  104.593   7075     514      4   71         11      1       0       0   \n",
              "3  148.924   9504     681      3   36         11      0       0       0   \n",
              "4   55.882   4897     357      2   68         16      1       0       1   \n",
              "\n",
              "   Balance  \n",
              "0      333  \n",
              "1      903  \n",
              "2      580  \n",
              "3      964  \n",
              "4      331  "
            ],
            "text/html": [
              "\n",
              "  <div id=\"df-b4953cca-fa69-4ab7-9c52-21a01ef68931\" class=\"colab-df-container\">\n",
              "    <div>\n",
              "<style scoped>\n",
              "    .dataframe tbody tr th:only-of-type {\n",
              "        vertical-align: middle;\n",
              "    }\n",
              "\n",
              "    .dataframe tbody tr th {\n",
              "        vertical-align: top;\n",
              "    }\n",
              "\n",
              "    .dataframe thead th {\n",
              "        text-align: right;\n",
              "    }\n",
              "</style>\n",
              "<table border=\"1\" class=\"dataframe\">\n",
              "  <thead>\n",
              "    <tr style=\"text-align: right;\">\n",
              "      <th></th>\n",
              "      <th>Income</th>\n",
              "      <th>Limit</th>\n",
              "      <th>Rating</th>\n",
              "      <th>Cards</th>\n",
              "      <th>Age</th>\n",
              "      <th>Education</th>\n",
              "      <th>Gender</th>\n",
              "      <th>Student</th>\n",
              "      <th>Married</th>\n",
              "      <th>Balance</th>\n",
              "    </tr>\n",
              "  </thead>\n",
              "  <tbody>\n",
              "    <tr>\n",
              "      <th>0</th>\n",
              "      <td>14.891</td>\n",
              "      <td>3606</td>\n",
              "      <td>283</td>\n",
              "      <td>2</td>\n",
              "      <td>34</td>\n",
              "      <td>11</td>\n",
              "      <td>1</td>\n",
              "      <td>0</td>\n",
              "      <td>1</td>\n",
              "      <td>333</td>\n",
              "    </tr>\n",
              "    <tr>\n",
              "      <th>1</th>\n",
              "      <td>106.025</td>\n",
              "      <td>6645</td>\n",
              "      <td>483</td>\n",
              "      <td>3</td>\n",
              "      <td>82</td>\n",
              "      <td>15</td>\n",
              "      <td>0</td>\n",
              "      <td>1</td>\n",
              "      <td>1</td>\n",
              "      <td>903</td>\n",
              "    </tr>\n",
              "    <tr>\n",
              "      <th>2</th>\n",
              "      <td>104.593</td>\n",
              "      <td>7075</td>\n",
              "      <td>514</td>\n",
              "      <td>4</td>\n",
              "      <td>71</td>\n",
              "      <td>11</td>\n",
              "      <td>1</td>\n",
              "      <td>0</td>\n",
              "      <td>0</td>\n",
              "      <td>580</td>\n",
              "    </tr>\n",
              "    <tr>\n",
              "      <th>3</th>\n",
              "      <td>148.924</td>\n",
              "      <td>9504</td>\n",
              "      <td>681</td>\n",
              "      <td>3</td>\n",
              "      <td>36</td>\n",
              "      <td>11</td>\n",
              "      <td>0</td>\n",
              "      <td>0</td>\n",
              "      <td>0</td>\n",
              "      <td>964</td>\n",
              "    </tr>\n",
              "    <tr>\n",
              "      <th>4</th>\n",
              "      <td>55.882</td>\n",
              "      <td>4897</td>\n",
              "      <td>357</td>\n",
              "      <td>2</td>\n",
              "      <td>68</td>\n",
              "      <td>16</td>\n",
              "      <td>1</td>\n",
              "      <td>0</td>\n",
              "      <td>1</td>\n",
              "      <td>331</td>\n",
              "    </tr>\n",
              "  </tbody>\n",
              "</table>\n",
              "</div>\n",
              "    <div class=\"colab-df-buttons\">\n",
              "\n",
              "  <div class=\"colab-df-container\">\n",
              "    <button class=\"colab-df-convert\" onclick=\"convertToInteractive('df-b4953cca-fa69-4ab7-9c52-21a01ef68931')\"\n",
              "            title=\"Convert this dataframe to an interactive table.\"\n",
              "            style=\"display:none;\">\n",
              "\n",
              "  <svg xmlns=\"http://www.w3.org/2000/svg\" height=\"24px\" viewBox=\"0 -960 960 960\">\n",
              "    <path d=\"M120-120v-720h720v720H120Zm60-500h600v-160H180v160Zm220 220h160v-160H400v160Zm0 220h160v-160H400v160ZM180-400h160v-160H180v160Zm440 0h160v-160H620v160ZM180-180h160v-160H180v160Zm440 0h160v-160H620v160Z\"/>\n",
              "  </svg>\n",
              "    </button>\n",
              "\n",
              "  <style>\n",
              "    .colab-df-container {\n",
              "      display:flex;\n",
              "      gap: 12px;\n",
              "    }\n",
              "\n",
              "    .colab-df-convert {\n",
              "      background-color: #E8F0FE;\n",
              "      border: none;\n",
              "      border-radius: 50%;\n",
              "      cursor: pointer;\n",
              "      display: none;\n",
              "      fill: #1967D2;\n",
              "      height: 32px;\n",
              "      padding: 0 0 0 0;\n",
              "      width: 32px;\n",
              "    }\n",
              "\n",
              "    .colab-df-convert:hover {\n",
              "      background-color: #E2EBFA;\n",
              "      box-shadow: 0px 1px 2px rgba(60, 64, 67, 0.3), 0px 1px 3px 1px rgba(60, 64, 67, 0.15);\n",
              "      fill: #174EA6;\n",
              "    }\n",
              "\n",
              "    .colab-df-buttons div {\n",
              "      margin-bottom: 4px;\n",
              "    }\n",
              "\n",
              "    [theme=dark] .colab-df-convert {\n",
              "      background-color: #3B4455;\n",
              "      fill: #D2E3FC;\n",
              "    }\n",
              "\n",
              "    [theme=dark] .colab-df-convert:hover {\n",
              "      background-color: #434B5C;\n",
              "      box-shadow: 0px 1px 3px 1px rgba(0, 0, 0, 0.15);\n",
              "      filter: drop-shadow(0px 1px 2px rgba(0, 0, 0, 0.3));\n",
              "      fill: #FFFFFF;\n",
              "    }\n",
              "  </style>\n",
              "\n",
              "    <script>\n",
              "      const buttonEl =\n",
              "        document.querySelector('#df-b4953cca-fa69-4ab7-9c52-21a01ef68931 button.colab-df-convert');\n",
              "      buttonEl.style.display =\n",
              "        google.colab.kernel.accessAllowed ? 'block' : 'none';\n",
              "\n",
              "      async function convertToInteractive(key) {\n",
              "        const element = document.querySelector('#df-b4953cca-fa69-4ab7-9c52-21a01ef68931');\n",
              "        const dataTable =\n",
              "          await google.colab.kernel.invokeFunction('convertToInteractive',\n",
              "                                                    [key], {});\n",
              "        if (!dataTable) return;\n",
              "\n",
              "        const docLinkHtml = 'Like what you see? Visit the ' +\n",
              "          '<a target=\"_blank\" href=https://colab.research.google.com/notebooks/data_table.ipynb>data table notebook</a>'\n",
              "          + ' to learn more about interactive tables.';\n",
              "        element.innerHTML = '';\n",
              "        dataTable['output_type'] = 'display_data';\n",
              "        await google.colab.output.renderOutput(dataTable, element);\n",
              "        const docLink = document.createElement('div');\n",
              "        docLink.innerHTML = docLinkHtml;\n",
              "        element.appendChild(docLink);\n",
              "      }\n",
              "    </script>\n",
              "  </div>\n",
              "\n",
              "\n",
              "<div id=\"df-71a19122-5d44-48cf-a8b3-f9e5f35bcc09\">\n",
              "  <button class=\"colab-df-quickchart\" onclick=\"quickchart('df-71a19122-5d44-48cf-a8b3-f9e5f35bcc09')\"\n",
              "            title=\"Suggest charts.\"\n",
              "            style=\"display:none;\">\n",
              "\n",
              "<svg xmlns=\"http://www.w3.org/2000/svg\" height=\"24px\"viewBox=\"0 0 24 24\"\n",
              "     width=\"24px\">\n",
              "    <g>\n",
              "        <path d=\"M19 3H5c-1.1 0-2 .9-2 2v14c0 1.1.9 2 2 2h14c1.1 0 2-.9 2-2V5c0-1.1-.9-2-2-2zM9 17H7v-7h2v7zm4 0h-2V7h2v10zm4 0h-2v-4h2v4z\"/>\n",
              "    </g>\n",
              "</svg>\n",
              "  </button>\n",
              "\n",
              "<style>\n",
              "  .colab-df-quickchart {\n",
              "      --bg-color: #E8F0FE;\n",
              "      --fill-color: #1967D2;\n",
              "      --hover-bg-color: #E2EBFA;\n",
              "      --hover-fill-color: #174EA6;\n",
              "      --disabled-fill-color: #AAA;\n",
              "      --disabled-bg-color: #DDD;\n",
              "  }\n",
              "\n",
              "  [theme=dark] .colab-df-quickchart {\n",
              "      --bg-color: #3B4455;\n",
              "      --fill-color: #D2E3FC;\n",
              "      --hover-bg-color: #434B5C;\n",
              "      --hover-fill-color: #FFFFFF;\n",
              "      --disabled-bg-color: #3B4455;\n",
              "      --disabled-fill-color: #666;\n",
              "  }\n",
              "\n",
              "  .colab-df-quickchart {\n",
              "    background-color: var(--bg-color);\n",
              "    border: none;\n",
              "    border-radius: 50%;\n",
              "    cursor: pointer;\n",
              "    display: none;\n",
              "    fill: var(--fill-color);\n",
              "    height: 32px;\n",
              "    padding: 0;\n",
              "    width: 32px;\n",
              "  }\n",
              "\n",
              "  .colab-df-quickchart:hover {\n",
              "    background-color: var(--hover-bg-color);\n",
              "    box-shadow: 0 1px 2px rgba(60, 64, 67, 0.3), 0 1px 3px 1px rgba(60, 64, 67, 0.15);\n",
              "    fill: var(--button-hover-fill-color);\n",
              "  }\n",
              "\n",
              "  .colab-df-quickchart-complete:disabled,\n",
              "  .colab-df-quickchart-complete:disabled:hover {\n",
              "    background-color: var(--disabled-bg-color);\n",
              "    fill: var(--disabled-fill-color);\n",
              "    box-shadow: none;\n",
              "  }\n",
              "\n",
              "  .colab-df-spinner {\n",
              "    border: 2px solid var(--fill-color);\n",
              "    border-color: transparent;\n",
              "    border-bottom-color: var(--fill-color);\n",
              "    animation:\n",
              "      spin 1s steps(1) infinite;\n",
              "  }\n",
              "\n",
              "  @keyframes spin {\n",
              "    0% {\n",
              "      border-color: transparent;\n",
              "      border-bottom-color: var(--fill-color);\n",
              "      border-left-color: var(--fill-color);\n",
              "    }\n",
              "    20% {\n",
              "      border-color: transparent;\n",
              "      border-left-color: var(--fill-color);\n",
              "      border-top-color: var(--fill-color);\n",
              "    }\n",
              "    30% {\n",
              "      border-color: transparent;\n",
              "      border-left-color: var(--fill-color);\n",
              "      border-top-color: var(--fill-color);\n",
              "      border-right-color: var(--fill-color);\n",
              "    }\n",
              "    40% {\n",
              "      border-color: transparent;\n",
              "      border-right-color: var(--fill-color);\n",
              "      border-top-color: var(--fill-color);\n",
              "    }\n",
              "    60% {\n",
              "      border-color: transparent;\n",
              "      border-right-color: var(--fill-color);\n",
              "    }\n",
              "    80% {\n",
              "      border-color: transparent;\n",
              "      border-right-color: var(--fill-color);\n",
              "      border-bottom-color: var(--fill-color);\n",
              "    }\n",
              "    90% {\n",
              "      border-color: transparent;\n",
              "      border-bottom-color: var(--fill-color);\n",
              "    }\n",
              "  }\n",
              "</style>\n",
              "\n",
              "  <script>\n",
              "    async function quickchart(key) {\n",
              "      const quickchartButtonEl =\n",
              "        document.querySelector('#' + key + ' button');\n",
              "      quickchartButtonEl.disabled = true;  // To prevent multiple clicks.\n",
              "      quickchartButtonEl.classList.add('colab-df-spinner');\n",
              "      try {\n",
              "        const charts = await google.colab.kernel.invokeFunction(\n",
              "            'suggestCharts', [key], {});\n",
              "      } catch (error) {\n",
              "        console.error('Error during call to suggestCharts:', error);\n",
              "      }\n",
              "      quickchartButtonEl.classList.remove('colab-df-spinner');\n",
              "      quickchartButtonEl.classList.add('colab-df-quickchart-complete');\n",
              "    }\n",
              "    (() => {\n",
              "      let quickchartButtonEl =\n",
              "        document.querySelector('#df-71a19122-5d44-48cf-a8b3-f9e5f35bcc09 button');\n",
              "      quickchartButtonEl.style.display =\n",
              "        google.colab.kernel.accessAllowed ? 'block' : 'none';\n",
              "    })();\n",
              "  </script>\n",
              "</div>\n",
              "    </div>\n",
              "  </div>\n"
            ]
          },
          "metadata": {},
          "execution_count": 4
        }
      ]
    },
    {
      "cell_type": "code",
      "source": [
        "#Learning rate\n",
        "alpha = 1 * (10**(-5))\n",
        "\n",
        "#Response matrix from dataframe\n",
        "ytemp = df['Balance'].to_numpy()\n",
        "y = np.ones((400,1))\n",
        "y[:,0] = ytemp\n",
        "y = np.array(y, dtype='float')\n",
        "\n",
        "#Design matrix from dataframe\n",
        "x = df[['Income', 'Limit', 'Rating', 'Cards', 'Age', 'Education', 'Gender', 'Student', 'Married']].to_numpy()\n",
        "x = np.array(x, dtype='float')"
      ],
      "metadata": {
        "id": "G-vcmAjKiDVK"
      },
      "execution_count": null,
      "outputs": []
    },
    {
      "cell_type": "code",
      "source": [
        "#----------------------------------------------------\n",
        "#Split dataset into 5-fold cross validation datasets\n",
        "#----------------------------------------------------\n",
        "\n",
        "#Full dataset used to train model on all data\n",
        "x_full = cp.deepcopy(x)\n",
        "y_full = cp.deepcopy(y)\n",
        "\n",
        "#Randomly shuffles and splits into 5 batches/folds the reponse and design vectors the same way\n",
        "shuffler = np.random.permutation(len(x))\n",
        "Xb = x[shuffler]\n",
        "Yb = y[shuffler]\n",
        "x_split = np.split(Xb, 5)\n",
        "y_split = np.split(Yb, 5)\n",
        "\n",
        "#x_training_five_fold and y_training_five_fold contain the traning datasets for 5 fold CV\n",
        "x_training_five_fold = [[], [], [], [], []]\n",
        "y_training_five_fold = [[], [], [], [], []]\n",
        "\n",
        "#x_validation_five_fold and y_validation_five_fold contains the validation datasets\n",
        "x_validation_five_fold = [[], [], [], [], []]\n",
        "y_validation_five_fold = [[], [], [], [], []]\n",
        "\n",
        "#Performs the 5-fold cross validation split\n",
        "for i in range(5):\n",
        "  temp_x = []\n",
        "  temp_y = []\n",
        "  flag = 0\n",
        "  for j in range(5):\n",
        "    if j != i:\n",
        "      if flag == 0:\n",
        "        temp_x = x_split[j]\n",
        "        temp_y = y_split[j]\n",
        "        flag = 1\n",
        "      elif flag == 1:\n",
        "        temp_x = np.append(temp_x, x_split[j], axis=0)\n",
        "        temp_y = np.append(temp_y, y_split[j], axis=0)\n",
        "    else:\n",
        "      x_validation_five_fold[i] = x_split[j]\n",
        "      y_validation_five_fold[i] = y_split[j]\n",
        "  x_training_five_fold[i] = temp_x\n",
        "  y_training_five_fold[i] = temp_y"
      ],
      "metadata": {
        "id": "jxYYXJRzZRlo"
      },
      "execution_count": null,
      "outputs": []
    },
    {
      "cell_type": "code",
      "source": [
        "#------------------------------------------------\n",
        "#Functions to standardize and center the datasets\n",
        "#------------------------------------------------\n",
        "\n",
        "#standardization function for traning dataset\n",
        "def standardize(data):\n",
        "  mean_array = np.mean(data, axis=0)\n",
        "  std_array = np.std(data, axis=0)\n",
        "\n",
        "  for i in data:\n",
        "    for j in range(0,9):\n",
        "      i[j] = (i[j] - mean_array[j])/std_array[j]\n",
        "\n",
        "#standardization function for validation dataset, uses mean/std from training dataset\n",
        "def standardize_val(data, validation):\n",
        "  mean_array = np.mean(data, axis=0)\n",
        "  std_array = np.std(data, axis=0)\n",
        "\n",
        "  for i in validation:\n",
        "    for j in range(0,9):\n",
        "      i[j] = (i[j] - mean_array[j])/std_array[j]\n",
        "\n",
        "#Center function for traning dataset\n",
        "def center(data):\n",
        "  mean = np.mean(data, axis=0)\n",
        "  for i in range(0, len(data)):\n",
        "    data[i] = data[i] - mean\n",
        "\n",
        "#Center function for validation dataset, uses mean from training dataset\n",
        "def center_val(data, validation):\n",
        "  mean = np.mean(data, axis=0)\n",
        "  for i in range(0, len(validation)):\n",
        "    validation[i] = validation[i] - mean"
      ],
      "metadata": {
        "id": "dZN-DcJda3AZ"
      },
      "execution_count": null,
      "outputs": []
    },
    {
      "cell_type": "code",
      "source": [
        "#Perform centering and standardization on traning dataset and validation dataset (using mean and std from training data)\n",
        "for i in range(0,5):\n",
        "  standardize_val(x_training_five_fold[i], x_validation_five_fold[i])\n",
        "  standardize(x_training_five_fold[i])\n",
        "\n",
        "  center_val(y_training_five_fold[i], y_validation_five_fold[i])\n",
        "  center(y_training_five_fold[i])\n",
        "\n",
        "standardize(x_full)\n",
        "center(y_full)"
      ],
      "metadata": {
        "id": "zGFBNcHTWrfb"
      },
      "execution_count": null,
      "outputs": []
    },
    {
      "cell_type": "code",
      "source": [
        "#Function to initalize parameter vector beta as random variables from uniform distribution [-1,1)\n",
        "def init_beta():\n",
        "  betatemp = np.random.uniform(-1,1,9)\n",
        "  beta = np.ones((9,1))\n",
        "  beta[:,0] = betatemp\n",
        "  return(beta)"
      ],
      "metadata": {
        "id": "-gKvNpESqYav"
      },
      "execution_count": null,
      "outputs": []
    },
    {
      "cell_type": "code",
      "source": [
        "#-----------------------------------------------------\n",
        "#Ridge regression using batch gradient decent function\n",
        "#-----------------------------------------------------\n",
        "\n",
        "#Takes a beta vector, a λ parameter, and the deisgn and response vectors as input and returns updated beta\n",
        "def ridge_regression(beta, lmbda, x, y):\n",
        "  for i in range (0,100000):\n",
        "    beta = beta - (2*alpha) * ((lmbda * beta) - np.dot(np.transpose(x), (y - np.dot(x, beta))))\n",
        "  return beta"
      ],
      "metadata": {
        "id": "mdl-O2yQ2sIf"
      },
      "execution_count": null,
      "outputs": []
    },
    {
      "cell_type": "markdown",
      "source": [
        "##Ridge Regression on Full Dataset with Varying λ *(Deliverable 1)*\n",
        "\n",
        "This section runs ridge regression on the full dataset for each value of λ = [10^-2, 10^-1, 10^0, ..., 10^4]. The resulting beta vector from the respective λ value is then stored in an array and plotted to show how each feature/beta coefficient changes as we increased the λ value. The graph demonstrates how the features 'shrink' and tend towards zero as the λ value is increased. However, unlike lasso, ridge regression does not perform explicit feature selection and keeps all the features, although some are reduced to very small coefficients, in an assumption that each feature is important to some degree."
      ],
      "metadata": {
        "id": "ggTFQPQhr2Qz"
      }
    },
    {
      "cell_type": "code",
      "source": [
        "#Run ridge regression for each value λ = [10^-2, 10^-1, 10^0, ..., 10^4] and store beta values\n",
        "beta_array = []\n",
        "for i in range(0, 7):\n",
        "  beta = init_beta()\n",
        "  beta = ridge_regression(beta, 10**(i-2), x_full, y_full)\n",
        "  beta_array.append(beta)"
      ],
      "metadata": {
        "id": "D5Xtt3hol7gO"
      },
      "execution_count": null,
      "outputs": []
    },
    {
      "cell_type": "code",
      "source": [
        "#Convert the array of all beta values for each λ value into an array of values for a single beta as λ increases\n",
        "lmbda_array = [[], [], [], [], [], [], [], [], []]\n",
        "for x in beta_array:\n",
        "  for i in range(0,9):\n",
        "    lmbda_array[i].append(x[i])"
      ],
      "metadata": {
        "id": "1B659sDgo0Na"
      },
      "execution_count": null,
      "outputs": []
    },
    {
      "cell_type": "code",
      "source": [
        "#Plot the effect of λ value on the beta value of each feature/beta parameter\n",
        "label = [\"Income\", \"Limit\", \"Rating\", \"Cards\", \"Age\", \"Education\", \"Gender\", \"Student\", \"Married\"]\n",
        "for i in range(0,9):\n",
        "  plt.plot([-2, -1, 0, 1, 2, 3, 4], lmbda_array[i], label=label[i])\n",
        "plt.title(\"Beta Coefficients VS Lambda Parameter\")\n",
        "plt.xlabel(\"Log10(lambda)\")\n",
        "plt.ylabel(\"Beta (B0, B1, B2, B3...B9)\")\n",
        "leg = plt.legend(loc='best', bbox_to_anchor=(1,1))\n",
        "plt.show()"
      ],
      "metadata": {
        "colab": {
          "base_uri": "https://localhost:8080/",
          "height": 472
        },
        "id": "dgq_2vmAbFg6",
        "outputId": "e2969d5b-da1d-462b-e3c4-22e0f7364a8e"
      },
      "execution_count": null,
      "outputs": [
        {
          "output_type": "display_data",
          "data": {
            "text/plain": [
              "<Figure size 640x480 with 1 Axes>"
            ],
            "image/png": "[encoded data removed]"
          },
          "metadata": {}
        }
      ]
    },
    {
      "cell_type": "markdown",
      "source": [
        "##5-Fold Cross Validation and CV Error with Varying λ *(Deliverable 2-3)*\n",
        "\n",
        "This section trains the 5-fold cross validation dataset on the ridge regression model and calculates the 5-fold cross-validation MSE using the validation dataset. The model is run on the cross-validation dataset for each value of λ = [10^-2, 10^-1, 10^0, ..., 10^4], and the MSE is computed for each value of λ. Finally, the CV MSE is plotted against the respective λ value, illustrating that significantly increasing the lambda value resulted in worse performance as important coefficients were being forcibly shrunk towards zero."
      ],
      "metadata": {
        "id": "zASDbOhvsJSM"
      }
    },
    {
      "cell_type": "code",
      "source": [
        "#Run ridge regression with five fold cross validation for each value λ = [10^-2, 10^-1, 10^0, ..., 10^4]\n",
        "#and store beta values. Store validation MSE from each varying λ iteration into an array for plotting.\n",
        "MSE_array = [0, 0, 0, 0, 0, 0, 0]\n",
        "for j in range(0, 7):\n",
        "  for i in range(0, 5):\n",
        "    beta = init_beta()\n",
        "    beta = ridge_regression(beta, 10**(j-2), x_training_five_fold[i], y_training_five_fold[i])\n",
        "    MSE = (np.dot((y_validation_five_fold[i] - np.dot(x_validation_five_fold[i], beta)).transpose(), (y_validation_five_fold[i] - np.dot(x_validation_five_fold[i], beta))))/(len(y_validation_five_fold[i]))\n",
        "    MSE_array[j] = MSE_array[j] + MSE\n",
        "  MSE_array[j] = (MSE_array[j]/5)\n",
        "  MSE_array[j] = MSE_array[j][0][0]"
      ],
      "metadata": {
        "id": "6__j7SilDe2v"
      },
      "execution_count": null,
      "outputs": []
    },
    {
      "cell_type": "code",
      "source": [
        "#Plot the effect of λ value on the cross validation error\n",
        "plt.plot([-2, -1, 0, 1, 2, 3, 4], MSE_array)\n",
        "plt.title(\"Cross Validation Error VS Lambda Parameter\")\n",
        "plt.xlabel(\"Log10(lambda)\")\n",
        "plt.ylabel(\"5-Fold CV MSE\")\n",
        "plt.show()"
      ],
      "metadata": {
        "colab": {
          "base_uri": "https://localhost:8080/",
          "height": 472
        },
        "id": "XVeqru6MmvHN",
        "outputId": "8674f419-8d8c-4c41-acef-645764aae070"
      },
      "execution_count": null,
      "outputs": [
        {
          "output_type": "display_data",
          "data": {
            "text/plain": [
              "<Figure size 640x480 with 1 Axes>"
            ],
            "image/png": "[encoded data removed]"
          },
          "metadata": {}
        }
      ]
    },
    {
      "cell_type": "code",
      "source": [
        "#Compute and display final beta values on full dataset with best λ\n",
        "print('Minimum CV error and respective λ value:\\n-----------------------------------')\n",
        "min_CV = min(MSE_array)\n",
        "print('CV error: ', min_CV)\n",
        "print('λ = ', 10**(MSE_array.index(min_CV)-2))"
      ],
      "metadata": {
        "colab": {
          "base_uri": "https://localhost:8080/"
        },
        "id": "j8ppYrQE7tyr",
        "outputId": "57451fbb-6ca0-4fdd-d3bd-f40e982e8a70"
      },
      "execution_count": null,
      "outputs": [
        {
          "output_type": "stream",
          "name": "stdout",
          "text": [
            "Minimum CV error and respective λ value:\n",
            "-----------------------------------\n",
            "CV error:  10031.249459997041\n",
            "λ =  0.01\n"
          ]
        }
      ]
    },
    {
      "cell_type": "markdown",
      "source": [
        "##Ridge Regression Using Optimal λ on Full Dataset *(Deliverable 4)*\n",
        "\n",
        "This final section retrains the ridge regression model on the entire dataset using the optimal λ value of 0.01 found in the previous section when comparing CV MSE. The final beta coefficients are then displayed along with their respective feature labels."
      ],
      "metadata": {
        "id": "wK7svxo0KRP-"
      }
    },
    {
      "cell_type": "code",
      "source": [
        "#Retrain on entire dataset using optimal λ of 0.01\n",
        "beta = init_beta()\n",
        "beta = ridge_regression(beta, 0.01, x_full, y_full)"
      ],
      "metadata": {
        "id": "qC-TRcs85w6h"
      },
      "execution_count": null,
      "outputs": []
    },
    {
      "cell_type": "code",
      "source": [
        "#Compute and display final beta values on full dataset with best λ\n",
        "print('Final estimates 𝛽̂ = [𝛽̂1, 𝛽̂2, 𝛽̂3, ..., 𝛽̂9] with best λ (λ=0.01):\\n--------------------------------------------------------------------')\n",
        "print(  '(Income) \\t𝛽̂1 = ', beta[0][0], '\\n(Limit) \\t𝛽̂2 = ', beta[1][0], '\\n(Rating) \\t𝛽̂3 = ', beta[2][0],\n",
        "      '\\n(Cards) \\t𝛽̂4 = ', beta[3][0], '\\n(Age) \\t\\t𝛽̂5 = ', beta[4][0], '\\n(Education) \\t𝛽̂6 = ', beta[5][0],\n",
        "      '\\n(Gender) \\t𝛽̂7 = ', beta[6][0], '\\n(Student) \\t𝛽̂8 = ', beta[7][0], '\\n(Married) \\t𝛽̂9 = ', beta[8][0],)"
      ],
      "metadata": {
        "colab": {
          "base_uri": "https://localhost:8080/"
        },
        "id": "5oUwc0sC6eeI",
        "outputId": "42136108-8d9b-4fb8-953a-85651bed755b"
      },
      "execution_count": null,
      "outputs": [
        {
          "output_type": "stream",
          "name": "stdout",
          "text": [
            "Final estimates 𝛽̂ = [𝛽̂1, 𝛽̂2, 𝛽̂3, ..., 𝛽̂9] with best λ (λ=0.01):\n",
            "--------------------------------------------------------------------\n",
            "(Income) \t𝛽̂1 =  -274.6534119763952 \n",
            "(Limit) \t𝛽̂2 =  419.6383894727285 \n",
            "(Rating) \t𝛽̂3 =  195.85471435098034 \n",
            "(Cards) \t𝛽̂4 =  23.447902615449745 \n",
            "(Age) \t\t𝛽̂5 =  -10.964984722080247 \n",
            "(Education) \t𝛽̂6 =  -3.3472593790270606 \n",
            "(Gender) \t𝛽̂7 =  5.20097254919167 \n",
            "(Student) \t𝛽̂8 =  127.7835203031118 \n",
            "(Married) \t𝛽̂9 =  -3.5951261348150383\n"
          ]
        }
      ]
    },
    {
      "cell_type": "markdown",
      "source": [
        "##Sklearn Ridge Regression *(Extra Credit)*\n",
        "\n",
        "This section implements ridge regression on the credit balance dataset using the SKlearn machine learning library. After training the model, the mean squared error is computed and the coefficients are reported, serving as a check to our original from-scratch model. Overall, the graphs, MSE, optimal λ value, and the final 𝛽̂ value estimates closely match the values from our from-scratch model, confirming the validity of my model. There are marginal differences between some of the values, but they are insignificant and the result of random train test splits when doing the cross validation, the initial random beta values, and other stochastic factors. Each runtime may produce slightly different results, including different optimal lambda values between from-scratch and library implementations since the MSE values are very close for λ = 0.01 and 0.1, but the results are significantly simmilar enough to validate the from-scratch method."
      ],
      "metadata": {
        "id": "6EXy8X0ksgz8"
      }
    },
    {
      "cell_type": "code",
      "source": [
        "##Sklearn ridge regression\n",
        "import seaborn as sns\n",
        "from sklearn.model_selection import train_test_split\n",
        "from sklearn.linear_model import Ridge\n",
        "from sklearn.metrics import mean_squared_error, mean_absolute_error\n",
        "from sklearn import preprocessing\n",
        "\n",
        "x_sklearn = x_full\n",
        "y_sklearn = y_full\n",
        "\n",
        "X_train, X_test, y_train, y_test = train_test_split(x_sklearn, y_sklearn, test_size=0.2, random_state=102)"
      ],
      "metadata": {
        "id": "LQqRlm7Vs_16"
      },
      "execution_count": null,
      "outputs": []
    },
    {
      "cell_type": "code",
      "source": [
        "beta_array_SKlearn = []\n",
        "for i in range(0, 7):\n",
        "  model = Ridge(alpha = 0.01 * (10**i))\n",
        "  model.fit(x_full,y_full)\n",
        "  beta_array_SKlearn.append(np.array(model.coef_)[0])"
      ],
      "metadata": {
        "id": "EXbVniQ8SX0t"
      },
      "execution_count": null,
      "outputs": []
    },
    {
      "cell_type": "code",
      "source": [
        "lmbda_array_SKlearn = [[], [], [], [], [], [], [], [], []]\n",
        "for i in range(len(beta_array_SKlearn)):\n",
        "  for j in range(0,9):\n",
        "    lmbda_array_SKlearn[j].append(beta_array_SKlearn[i][j])"
      ],
      "metadata": {
        "id": "que0jpwvTC4Q"
      },
      "execution_count": null,
      "outputs": []
    },
    {
      "cell_type": "code",
      "source": [
        "#Plot the effect of λ value on the beta value of each feature/beta parameter\n",
        "label = [\"Income\", \"Limit\", \"Rating\", \"Cards\", \"Age\", \"Education\", \"Gender\", \"Student\", \"Married\"]\n",
        "for i in range(0,9):\n",
        "  plt.plot([-2, -1, 0, 1, 2, 3, 4], lmbda_array_SKlearn[i], label=label[i])\n",
        "plt.title(\"Beta Coefficients VS Lambda Parameter\")\n",
        "plt.xlabel(\"Log10(lambda)\")\n",
        "plt.ylabel(\"Beta (B0, B1, B2, B3...B9)\")\n",
        "leg = plt.legend(loc='best', bbox_to_anchor=(1,1))\n",
        "plt.show()"
      ],
      "metadata": {
        "colab": {
          "base_uri": "https://localhost:8080/",
          "height": 472
        },
        "id": "XCcB8WFxTIsa",
        "outputId": "f40d0cc2-1316-4c25-914e-2071daec0644"
      },
      "execution_count": null,
      "outputs": [
        {
          "output_type": "display_data",
          "data": {
            "text/plain": [
              "<Figure size 640x480 with 1 Axes>"
            ],
            "image/png": "[encoded data removed]"
          },
          "metadata": {}
        }
      ]
    },
    {
      "cell_type": "code",
      "source": [
        "MSE_array_SKlearn = []\n",
        "for i in range(0,7):\n",
        "  model = Ridge(alpha = 0.01 * (10**i))\n",
        "  model.fit(X_train,y_train)\n",
        "  predictions = model.predict(X_test)\n",
        "  MSE_array_SKlearn.append(mean_squared_error(y_test, predictions))"
      ],
      "metadata": {
        "id": "7-hCVVC9ZG8i"
      },
      "execution_count": null,
      "outputs": []
    },
    {
      "cell_type": "code",
      "source": [
        "#Plot the effect of λ value on the cross validation error\n",
        "plt.plot(MSE_array_SKlearn)\n",
        "plt.title(\"Cross Validation Error VS Lambda Parameter\")\n",
        "plt.xlabel(\"Log10(lambda)\")\n",
        "plt.ylabel(\"5-Fold CV MSE\")\n",
        "plt.show()"
      ],
      "metadata": {
        "colab": {
          "base_uri": "https://localhost:8080/",
          "height": 472
        },
        "id": "rbMq82KWVjfq",
        "outputId": "ab7dac1b-3eaf-43e9-d56b-7fbd2e947802"
      },
      "execution_count": null,
      "outputs": [
        {
          "output_type": "display_data",
          "data": {
            "text/plain": [
              "<Figure size 640x480 with 1 Axes>"
            ],
            "image/png": "[encoded data removed]"
          },
          "metadata": {}
        }
      ]
    },
    {
      "cell_type": "code",
      "source": [
        "print('Minimum CV error and respective λ value:\\n-----------------------------------')\n",
        "min_CV = min(MSE_array_SKlearn)\n",
        "print('CV error: ', min_CV)\n",
        "print('λ = ', 10**(MSE_array_SKlearn.index(min_CV)-2))"
      ],
      "metadata": {
        "colab": {
          "base_uri": "https://localhost:8080/"
        },
        "id": "ggzjpKuKVXJs",
        "outputId": "4072220e-7b24-4fd1-9821-7da246aa751c"
      },
      "execution_count": null,
      "outputs": [
        {
          "output_type": "stream",
          "name": "stdout",
          "text": [
            "Minimum CV error and respective λ value:\n",
            "-----------------------------------\n",
            "CV error:  10048.658699042759\n",
            "λ =  0.01\n"
          ]
        }
      ]
    },
    {
      "cell_type": "code",
      "source": [
        "#Compute and display final beta values on full dataset with best λ\n",
        "model = Ridge(alpha = 0.01)\n",
        "model.fit(x_full,y_full)\n",
        "print('Final estimates 𝛽̂ = [𝛽̂1, 𝛽̂2, 𝛽̂3, ..., 𝛽̂9] with best λ (λ=0.01):\\n--------------------------------------------------------------------')\n",
        "print(  '(Income) \\t𝛽̂1 = ', np.array(model.coef_)[0][0], '\\n(Limit) \\t𝛽̂2 = ', np.array(model.coef_)[0][1], '\\n(Rating) \\t𝛽̂3 = ', np.array(model.coef_)[0][2],\n",
        "      '\\n(Cards) \\t𝛽̂4 = ', np.array(model.coef_)[0][3], '\\n(Age) \\t\\t𝛽̂5 = ', np.array(model.coef_)[0][4], '\\n(Education) \\t𝛽̂6 = ', np.array(model.coef_)[0][5],\n",
        "      '\\n(Gender) \\t𝛽̂7 = ', np.array(model.coef_)[0][6], '\\n(Student) \\t𝛽̂8 = ', np.array(model.coef_)[0][7], '\\n(Married) \\t𝛽̂9 = ', np.array(model.coef_)[0][8])\n"
      ],
      "metadata": {
        "colab": {
          "base_uri": "https://localhost:8080/"
        },
        "id": "hIacjNa0ZsA0",
        "outputId": "ce03a26d-2b72-4bd4-b7d2-4f431d9268c9"
      },
      "execution_count": null,
      "outputs": [
        {
          "output_type": "stream",
          "name": "stdout",
          "text": [
            "Final estimates 𝛽̂ = [𝛽̂1, 𝛽̂2, 𝛽̂3, ..., 𝛽̂9] with best λ (λ=0.01):\n",
            "--------------------------------------------------------------------\n",
            "(Income) \t𝛽̂1 =  -274.5994734427918 \n",
            "(Limit) \t𝛽̂2 =  443.50424275758115 \n",
            "(Rating) \t𝛽̂3 =  171.90213774521007 \n",
            "(Cards) \t𝛽̂4 =  24.480041015611928 \n",
            "(Age) \t\t𝛽̂5 =  -10.938688104249573 \n",
            "(Education) \t𝛽̂6 =  -3.471589626928466 \n",
            "(Gender) \t𝛽̂7 =  5.199130916519978 \n",
            "(Student) \t𝛽̂8 =  127.92704721886008 \n",
            "(Married) \t𝛽̂9 =  -3.430922317023977\n"
          ]
        }
      ]
    },
    {
      "cell_type": "code",
      "source": [
        "%%shell\n",
        "\n",
        "jupyter nbconvert --to html /content/CAP_5625_Programming_Assignment_2_Richard_Acs.ipynb"
      ],
      "metadata": {
        "colab": {
          "base_uri": "https://localhost:8080/"
        },
        "id": "hRHwO2MdhWOg",
        "outputId": "3f0c9cea-6608-458a-ea4e-9531f6e826f7"
      },
      "execution_count": null,
      "outputs": [
        {
          "output_type": "stream",
          "name": "stdout",
          "text": [
            "[NbConvertApp] Converting notebook /content/CAP_5625_Programming_Assignment_2_Richard_Acs.ipynb to html\n",
            "[NbConvertApp] Writing 901091 bytes to /content/CAP_5625_Programming_Assignment_2_Richard_Acs.html\n"
          ]
        },
        {
          "output_type": "execute_result",
          "data": {
            "text/plain": []
          },
          "metadata": {},
          "execution_count": 30
        }
      ]
    }
  ]
}