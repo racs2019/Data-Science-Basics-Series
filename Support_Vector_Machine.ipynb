{
  "nbformat": 4,
  "nbformat_minor": 0,
  "metadata": {
    "colab": {
      "provenance": [],
      "toc_visible": true
    },
    "kernelspec": {
      "name": "python3",
      "display_name": "Python 3"
    },
    "language_info": {
      "name": "python"
    }
  },
  "cells": [
    {
      "cell_type": "markdown",
      "source": [
        "#SVM\n",
        "\n",
        "This mini project focuses on implementing a support vector machine to separate and classify two different sets of points. The first dataset is linearly separable, and we will apply and graph the decision boundary produced by a linear SVM to the data. The second dataset is not linearly separable, and we will apply a kernel based SVM to classify and plot the resulting decision boundary."
      ],
      "metadata": {
        "id": "lY5gf1OOReB5"
      }
    },
    {
      "cell_type": "markdown",
      "source": [
        "##Part 1 - Linear SVM\n",
        "\n",
        "The first part of this assignment implements a linear SVM on a linearly separable dataset. First, the dataset is read and plotted, showing the two different classes. Then, we use the data and corresponding labels to set up the SVM problem in terms of quadratic programming. Next, we use a quadratic programming solver to find the alpha values and manually find the support vector points. Finally, we calculate the W and b values using the found alphas and plot the resulting decision boundary and margin for the linear SVM."
      ],
      "metadata": {
        "id": "N3fvLOpxA1t7"
      }
    },
    {
      "cell_type": "markdown",
      "source": [
        "**Dependencies**\n",
        "\n",
        "\n",
        "This section contains all dependencies used for the rest of the code cells."
      ],
      "metadata": {
        "id": "Ucrc1g3GQbqk"
      }
    },
    {
      "cell_type": "code",
      "source": [
        "!pip install pymatreader\n",
        "!pip install cvxopt"
      ],
      "metadata": {
        "colab": {
          "base_uri": "https://localhost:8080/"
        },
        "id": "Zfuv-biG5cIo",
        "outputId": "85a4c9dc-0e72-4057-ce96-519f69b70ef6"
      },
      "execution_count": null,
      "outputs": [
        {
          "output_type": "stream",
          "name": "stdout",
          "text": [
            "Collecting pymatreader\n",
            "  Downloading pymatreader-0.0.32-py3-none-any.whl (9.0 kB)\n",
            "Requirement already satisfied: h5py in /usr/local/lib/python3.10/dist-packages (from pymatreader) (3.9.0)\n",
            "Requirement already satisfied: scipy!=1.7.0 in /usr/local/lib/python3.10/dist-packages (from pymatreader) (1.11.4)\n",
            "Requirement already satisfied: numpy in /usr/local/lib/python3.10/dist-packages (from pymatreader) (1.25.2)\n",
            "Collecting xmltodict (from pymatreader)\n",
            "  Downloading xmltodict-0.13.0-py2.py3-none-any.whl (10.0 kB)\n",
            "Installing collected packages: xmltodict, pymatreader\n",
            "Successfully installed pymatreader-0.0.32 xmltodict-0.13.0\n",
            "Requirement already satisfied: cvxopt in /usr/local/lib/python3.10/dist-packages (1.3.2)\n"
          ]
        }
      ]
    },
    {
      "cell_type": "code",
      "source": [
        "import matplotlib.pyplot as plt\n",
        "import math\n",
        "import mpmath as mp\n",
        "from pymatreader import read_mat\n",
        "import cvxopt\n",
        "import cvxopt.solvers\n",
        "from cvxopt import matrix\n",
        "import numpy as np"
      ],
      "metadata": {
        "id": "xUCwyLvO5cjo"
      },
      "execution_count": null,
      "outputs": []
    },
    {
      "cell_type": "markdown",
      "source": [
        "**Data Preparation**\n",
        "\n",
        "The code cell below downloads the linearly separable dataset from GitHub. The data points are then displayed to visualize the two classes.\n"
      ],
      "metadata": {
        "id": "cioOPdrTQdcg"
      }
    },
    {
      "cell_type": "code",
      "source": [
        "#Download data from github\n",
        "!wget https://github.com/racs2019/A5ML/raw/main/myfile.mat"
      ],
      "metadata": {
        "colab": {
          "base_uri": "https://localhost:8080/"
        },
        "id": "sTrnSozovP6k",
        "outputId": "0ecf2bbf-ff87-41e7-bade-6550f810b7f7"
      },
      "execution_count": null,
      "outputs": [
        {
          "output_type": "stream",
          "name": "stdout",
          "text": [
            "--2024-04-02 23:05:42--  https://github.com/racs2019/A5ML/raw/main/myfile.mat\n",
            "Resolving github.com (github.com)... 140.82.112.3\n",
            "Connecting to github.com (github.com)|140.82.112.3|:443... connected.\n",
            "HTTP request sent, awaiting response... 302 Found\n",
            "Location: https://raw.githubusercontent.com/racs2019/A5ML/main/myfile.mat [following]\n",
            "--2024-04-02 23:05:42--  https://raw.githubusercontent.com/racs2019/A5ML/main/myfile.mat\n",
            "Resolving raw.githubusercontent.com (raw.githubusercontent.com)... 185.199.108.133, 185.199.109.133, 185.199.110.133, ...\n",
            "Connecting to raw.githubusercontent.com (raw.githubusercontent.com)|185.199.108.133|:443... connected.\n",
            "HTTP request sent, awaiting response... 200 OK\n",
            "Length: 896 [application/octet-stream]\n",
            "Saving to: ‘myfile.mat’\n",
            "\n",
            "myfile.mat          100%[===================>]     896  --.-KB/s    in 0s      \n",
            "\n",
            "2024-04-02 23:05:43 (40.1 MB/s) - ‘myfile.mat’ saved [896/896]\n",
            "\n"
          ]
        }
      ]
    },
    {
      "cell_type": "code",
      "source": [
        "#Read data from matlab workspace file\n",
        "data = read_mat('myfile.mat')\n",
        "data.keys()"
      ],
      "metadata": {
        "colab": {
          "base_uri": "https://localhost:8080/"
        },
        "id": "y1qH78-_5k2r",
        "outputId": "161e1a60-e635-4c5a-c2e9-30fc6f3ed108"
      },
      "execution_count": null,
      "outputs": [
        {
          "output_type": "execute_result",
          "data": {
            "text/plain": [
              "dict_keys(['__header__', '__version__', '__globals__', 'x', 'y'])"
            ]
          },
          "metadata": {},
          "execution_count": 5
        }
      ]
    },
    {
      "cell_type": "code",
      "source": [
        "#Convert matlab data into separate train/test and label arrays\n",
        "x_data = data['x']\n",
        "y_data = data['y']"
      ],
      "metadata": {
        "id": "fVzTMJoZ5pPg"
      },
      "execution_count": null,
      "outputs": []
    },
    {
      "cell_type": "code",
      "source": [
        "#Plot the data\n",
        "x_value = []\n",
        "y_value = []\n",
        "\n",
        "for i in range(40):\n",
        "  x_value.append(x_data[i][0])\n",
        "  y_value.append(x_data[i][1])\n",
        "\n",
        "plt.scatter(x_value[0:19], y_value[0:19])\n",
        "plt.scatter(x_value[20:39], y_value[20:39])\n",
        "\n",
        "plt.title('Linearly Separable Data Points')\n",
        "plt.xlabel('X1')\n",
        "plt.ylabel('X2')\n",
        "plt.show()"
      ],
      "metadata": {
        "colab": {
          "base_uri": "https://localhost:8080/",
          "height": 472
        },
        "id": "UF4Lgrlv6jVa",
        "outputId": "3e4ade2e-7bc3-4c6a-f1bd-0876cfce6bcd"
      },
      "execution_count": null,
      "outputs": [
        {
          "output_type": "display_data",
          "data": {
            "text/plain": [
              "<Figure size 640x480 with 1 Axes>"
            ],
            "image/png": "[encoded data removed]"
          },
          "metadata": {}
        }
      ]
    },
    {
      "cell_type": "markdown",
      "source": [
        "**Quadratic Programming**\n",
        "\n",
        "The code cells below use quadratic programming to find the alpha multipliers. First, the dataset and labels are used to set up the problem in the form of quadratic programming. Then, a solver is used to find the values for the alpha multipliers."
      ],
      "metadata": {
        "id": "0SULeecZ_P_e"
      }
    },
    {
      "cell_type": "code",
      "source": [
        "# Set up values for quadratic programming solver\n",
        "# Formatt of solver with respective variables:\n",
        "# -----------------------------------------------\n",
        "#  minimize  (1/2) * x^T * P * x + q^T * x\n",
        "#  subject to  G * x <= h\n",
        "#              A * x = b\n",
        "#-------------------------------------------------\n",
        "mp.mp.dps = 100\n",
        "\n",
        "q = matrix(np.ones(40)*-1)\n",
        "h = matrix((np.zeros(40)))\n",
        "G = matrix(np.eye(40,40)*-1)\n",
        "P = np.zeros((40,40))\n",
        "b = matrix(0.0)\n",
        "A = matrix(1.0, (1,40))\n",
        "for i in range(40):\n",
        "  A[i] = y_data[i]*1.0\n",
        "#Initialize the matrix P using the data points and their respective labels\n",
        "for i in range(40):\n",
        "  for j in range(40):\n",
        "    temp = mp.fdot(x_data[i], x_data[j])\n",
        "    P[i][j] = y_data[i]*y_data[j]*temp\n",
        "P = matrix(P)"
      ],
      "metadata": {
        "id": "hKkpc6sQOH21"
      },
      "execution_count": null,
      "outputs": []
    },
    {
      "cell_type": "code",
      "source": [
        "#Run the QP solver on the correctly formatted data\n",
        "solution = cvxopt.solvers.qp(P, q, G, h, A, b)"
      ],
      "metadata": {
        "colab": {
          "base_uri": "https://localhost:8080/"
        },
        "id": "voNRtGJ3B88Y",
        "outputId": "978f0eef-99b9-4938-a162-3a1acc9b0378"
      },
      "execution_count": null,
      "outputs": [
        {
          "output_type": "stream",
          "name": "stdout",
          "text": [
            "     pcost       dcost       gap    pres   dres\n",
            " 0: -3.1176e+00 -5.1557e+00  9e+01  1e+01  2e+00\n",
            " 1: -1.2428e+00 -7.5360e-01  1e+01  1e+00  2e-01\n",
            " 2: -2.4063e-02 -4.7515e-01  5e-01  7e-16  1e-15\n",
            " 3: -1.6470e-01 -2.3952e-01  7e-02  9e-17  6e-16\n",
            " 4: -2.0198e-01 -2.3119e-01  3e-02  6e-17  3e-16\n",
            " 5: -2.2569e-01 -2.2975e-01  4e-03  6e-17  4e-16\n",
            " 6: -2.2907e-01 -2.2911e-01  4e-05  6e-17  3e-16\n",
            " 7: -2.2910e-01 -2.2910e-01  4e-07  1e-17  3e-16\n",
            " 8: -2.2910e-01 -2.2910e-01  4e-09  6e-17  3e-16\n",
            "Optimal solution found.\n"
          ]
        }
      ]
    },
    {
      "cell_type": "code",
      "source": [
        "#Print all alpha values and find the indexes of the nonzero values (SVs)\n",
        "alphas = solution['x']\n",
        "print(alphas)  #SVs are index 2, 25, 26"
      ],
      "metadata": {
        "colab": {
          "base_uri": "https://localhost:8080/"
        },
        "id": "XkYS6XQRJqaK",
        "outputId": "eee53c2a-167f-48fb-d3c0-be004f043855"
      },
      "execution_count": null,
      "outputs": [
        {
          "output_type": "stream",
          "name": "stdout",
          "text": [
            "[ 7.92e-11]\n",
            "[ 3.27e-10]\n",
            "[ 2.29e-01]\n",
            "[ 5.54e-11]\n",
            "[ 6.63e-11]\n",
            "[ 1.21e-10]\n",
            "[ 4.85e-11]\n",
            "[ 9.63e-11]\n",
            "[ 1.56e-10]\n",
            "[ 4.48e-11]\n",
            "[ 6.32e-11]\n",
            "[ 1.40e-10]\n",
            "[ 1.09e-10]\n",
            "[ 1.73e-10]\n",
            "[ 3.53e-10]\n",
            "[ 2.36e-10]\n",
            "[ 6.01e-11]\n",
            "[ 1.35e-10]\n",
            "[ 8.41e-11]\n",
            "[ 1.37e-10]\n",
            "[ 4.62e-10]\n",
            "[ 1.30e-10]\n",
            "[ 3.39e-10]\n",
            "[ 7.00e-11]\n",
            "[ 9.78e-11]\n",
            "[ 5.79e-02]\n",
            "[ 1.71e-01]\n",
            "[ 2.39e-10]\n",
            "[ 9.11e-11]\n",
            "[ 1.02e-10]\n",
            "[ 1.40e-10]\n",
            "[ 2.14e-10]\n",
            "[ 2.19e-10]\n",
            "[ 5.10e-10]\n",
            "[ 4.91e-10]\n",
            "[ 4.50e-10]\n",
            "[ 1.22e-10]\n",
            "[ 7.58e-11]\n",
            "[ 1.61e-10]\n",
            "[ 2.18e-10]\n",
            "\n"
          ]
        }
      ]
    },
    {
      "cell_type": "markdown",
      "source": [
        "**Plotting the Classifying line**\n",
        "\n",
        "The following code cells compute W and b using the alphas found in the previous section, and then plot the linear classifying line and margin, as well as highlight the support vectors as red points."
      ],
      "metadata": {
        "id": "HVskf1_-_pQs"
      }
    },
    {
      "cell_type": "code",
      "source": [
        "#Compute W by summing across all data points multiplied by their respective label and alpha value\n",
        "W = y_data[0]*alphas[0]*x_data[0]\n",
        "for i in range(39):\n",
        "  W = W + y_data[i+1]*alphas[i+1]*x_data[i+1]"
      ],
      "metadata": {
        "id": "WoGQhUSLj-5T"
      },
      "execution_count": null,
      "outputs": []
    },
    {
      "cell_type": "code",
      "source": [
        "#Compute beta: b = y[sv] - w*x[sv]\n",
        "b = y_data[2] - np.dot(np.transpose(W), x_data[2])"
      ],
      "metadata": {
        "id": "Z9FReDq8lKZn"
      },
      "execution_count": null,
      "outputs": []
    },
    {
      "cell_type": "code",
      "source": [
        "#Uniformly generate x points\n",
        "x = np.linspace(-4, 4, 100)\n",
        "\n",
        "#Use the W and b found to calculate the second coordinate given a random input\n",
        "#This first equation plots the svm line where the output is 0\n",
        "y = -(x*W[0] + b)/W[1]\n",
        "\n",
        "plt.plot(x, y)\n",
        "plt.scatter(x_value[0:19], y_value[0:19])\n",
        "plt.scatter(x_value[20:39], y_value[20:39])\n",
        "\n",
        "#This second equation plots the svm line where the output is 1\n",
        "x = np.linspace(-4, 4, 100)\n",
        "y = -(x*W[0] + b-1)/W[1]\n",
        "plt.plot(x, y)\n",
        "\n",
        "#This second equation plots the svm line where the output is -1\n",
        "x = np.linspace(-4, 4, 100)\n",
        "y = -(x*W[0] + b+1)/W[1]\n",
        "plt.plot(x, y)\n",
        "\n",
        "#Plot the support vectors found from the maximum alpha values\n",
        "plt.plot(x_value[2], y_value[2],'ro')\n",
        "plt.plot(x_value[25], y_value[25],'ro')\n",
        "plt.plot(x_value[26], y_value[26],'ro')\n",
        "\n",
        "plt.title('Linear SVM')\n",
        "plt.xlabel('X1')\n",
        "plt.ylabel('X2')\n",
        "plt.show()"
      ],
      "metadata": {
        "colab": {
          "base_uri": "https://localhost:8080/",
          "height": 472
        },
        "id": "rMk32PfnlsJv",
        "outputId": "33072a77-45a4-48da-9cec-e59bd21d7a62"
      },
      "execution_count": null,
      "outputs": [
        {
          "output_type": "display_data",
          "data": {
            "text/plain": [
              "<Figure size 640x480 with 1 Axes>"
            ],
            "image/png": "[encoded data removed]"
          },
          "metadata": {}
        }
      ]
    },
    {
      "cell_type": "markdown",
      "source": [
        "##Part 2 - Kernel Based SVM\n",
        "\n",
        "The second part of this assignment implements a kernel based SVM on a non-linearly separable dataset. First, the dataset is read and plotted, showing the two different classes. Then, we use the data and corresponding labels to set up the SVM problem in terms of quadratic programming with a kernel function. Next, we use a quadratic programming solver to find the alpha values and manually find the support vector points. Finally, we calculate b using the alphas, kernel function, and the datapoints/labels, and show the resulting separating curve. We cannot find W directly due to our kernel function, so to plot the separating curve we created a large grid of points and used the alphas and b values to classify each point, with the resulting colormap showing the separating curve."
      ],
      "metadata": {
        "id": "CcLy7kPvasCh"
      }
    },
    {
      "cell_type": "markdown",
      "source": [
        "**Data Preparation**\n",
        "\n",
        "The code cell below downloads the non-linearly separable dataset from GitHub. The data points are then displayed to visualize the two classes."
      ],
      "metadata": {
        "id": "uIKFRg7GBhNf"
      }
    },
    {
      "cell_type": "code",
      "source": [
        "#Download data from github\n",
        "!wget https://github.com/racs2019/A5ML/raw/main/nonlinear.mat"
      ],
      "metadata": {
        "colab": {
          "base_uri": "https://localhost:8080/"
        },
        "id": "SbWls-D5qmoD",
        "outputId": "8f838130-5e51-43d6-e8c9-e726223a9107"
      },
      "execution_count": null,
      "outputs": [
        {
          "output_type": "stream",
          "name": "stdout",
          "text": [
            "--2024-04-02 23:06:06--  https://github.com/racs2019/A5ML/raw/main/nonlinear.mat\n",
            "Resolving github.com (github.com)... 140.82.114.4\n",
            "Connecting to github.com (github.com)|140.82.114.4|:443... connected.\n",
            "HTTP request sent, awaiting response... 302 Found\n",
            "Location: https://raw.githubusercontent.com/racs2019/A5ML/main/nonlinear.mat [following]\n",
            "--2024-04-02 23:06:06--  https://raw.githubusercontent.com/racs2019/A5ML/main/nonlinear.mat\n",
            "Resolving raw.githubusercontent.com (raw.githubusercontent.com)... 185.199.111.133, 185.199.109.133, 185.199.108.133, ...\n",
            "Connecting to raw.githubusercontent.com (raw.githubusercontent.com)|185.199.111.133|:443... connected.\n",
            "HTTP request sent, awaiting response... 200 OK\n",
            "Length: 1216 (1.2K) [application/octet-stream]\n",
            "Saving to: ‘nonlinear.mat.1’\n",
            "\n",
            "nonlinear.mat.1     100%[===================>]   1.19K  --.-KB/s    in 0s      \n",
            "\n",
            "2024-04-02 23:06:06 (49.6 MB/s) - ‘nonlinear.mat.1’ saved [1216/1216]\n",
            "\n"
          ]
        }
      ]
    },
    {
      "cell_type": "code",
      "source": [
        "#Read data from matlab workspace file\n",
        "data = read_mat('nonlinear.mat')\n",
        "data.keys()"
      ],
      "metadata": {
        "colab": {
          "base_uri": "https://localhost:8080/"
        },
        "id": "vPO6og2kqpb_",
        "outputId": "28913517-966b-446b-d285-1c6feabb605a"
      },
      "execution_count": null,
      "outputs": [
        {
          "output_type": "execute_result",
          "data": {
            "text/plain": [
              "dict_keys(['__header__', '__version__', '__globals__', 'x', 'y'])"
            ]
          },
          "metadata": {},
          "execution_count": 15
        }
      ]
    },
    {
      "cell_type": "code",
      "source": [
        "#Convert matlab data into x and y arrays\n",
        "x_data = data['x']\n",
        "y_data = data['y']"
      ],
      "metadata": {
        "id": "v3V34XjnqtPk"
      },
      "execution_count": null,
      "outputs": []
    },
    {
      "cell_type": "code",
      "source": [
        "#Plot the data\n",
        "x_value = []\n",
        "y_value = []\n",
        "\n",
        "for i in range(60):\n",
        "  x_value.append(x_data[i][0])\n",
        "  y_value.append(x_data[i][1])\n",
        "\n",
        "plt.scatter(x_value[0:29], y_value[0:29])\n",
        "plt.scatter(x_value[30:59], y_value[30:59], c='green')\n",
        "\n",
        "plt.title('Non-linearly Separable Data Points')\n",
        "plt.xlabel('X1')\n",
        "plt.ylabel('X2')\n",
        "plt.show()"
      ],
      "metadata": {
        "colab": {
          "base_uri": "https://localhost:8080/",
          "height": 472
        },
        "id": "p4bLEmNcqpuP",
        "outputId": "2ba9ed4c-7754-4b40-a8ee-fe493ce0e38c"
      },
      "execution_count": null,
      "outputs": [
        {
          "output_type": "display_data",
          "data": {
            "text/plain": [
              "<Figure size 640x480 with 1 Axes>"
            ],
            "image/png": "[encoded data removed]"
          },
          "metadata": {}
        }
      ]
    },
    {
      "cell_type": "markdown",
      "source": [
        "**Quadratic Programming**\n",
        "\n",
        "The code cells below use quadratic programming to find the alpha multipliers. First, the dataset and labels are used to set up the problem in the form of quadratic programming. A kernel function is defined to help set up the QP matrices. Then, a solver is used to find the values for the alpha multipliers.\n"
      ],
      "metadata": {
        "id": "GhP-IJALBpEo"
      }
    },
    {
      "cell_type": "code",
      "source": [
        "#Function to define the kernel to project data to higher dimensional space\n",
        "def kernel(x1, x2):\n",
        "  return (1 + np.dot(x1, np.transpose(x2)))**3"
      ],
      "metadata": {
        "id": "WcV0Riv8Vd72"
      },
      "execution_count": null,
      "outputs": []
    },
    {
      "cell_type": "code",
      "source": [
        "# Set up values for quadratic programming solver\n",
        "# Formatt of solver with respective variables:\n",
        "# -----------------------------------------------\n",
        "#  minimize  (1/2) * x^T * P * x + q^T * x\n",
        "#  subject to  G * x <= h\n",
        "#              A * x = b\n",
        "#-------------------------------------------------\n",
        "mp.mp.dps = 100\n",
        "\n",
        "q = matrix(np.ones(60)*-1)\n",
        "h = matrix(np.zeros(60))\n",
        "G = matrix(np.eye(60,60)*-1)\n",
        "P = np.zeros((60,60))\n",
        "b = matrix(0.0)\n",
        "A = matrix(1.0, (1,60))\n",
        "for i in range(60):\n",
        "  A[i] = y_data[i]*1.0\n",
        "#Initialize the matrix P using the data points and their respective labels\n",
        "for i in range(60):\n",
        "  for j in range(60):\n",
        "    temp = kernel(x_data[i], x_data[j])\n",
        "    P[i][j] = y_data[i]*y_data[j]*temp\n",
        "P = matrix(P)"
      ],
      "metadata": {
        "id": "LJCmv3dhajSm"
      },
      "execution_count": null,
      "outputs": []
    },
    {
      "cell_type": "code",
      "source": [
        "#Run the QP solver on the correctly formatted data\n",
        "solution = cvxopt.solvers.qp(P, q, G, h, A, b)"
      ],
      "metadata": {
        "colab": {
          "base_uri": "https://localhost:8080/"
        },
        "id": "zNFGLWucauUm",
        "outputId": "c442560e-e88d-46e0-bb9c-3b2efe981473"
      },
      "execution_count": null,
      "outputs": [
        {
          "output_type": "stream",
          "name": "stdout",
          "text": [
            "     pcost       dcost       gap    pres   dres\n",
            " 0: -6.0793e+00 -1.3579e+01  2e+02  1e+01  2e+00\n",
            " 1: -1.5100e+01 -1.7593e+01  9e+01  5e+00  1e+00\n",
            " 2: -5.4962e+01 -5.3023e+01  9e+01  4e+00  9e-01\n",
            " 3: -1.2174e+02 -9.0384e+01  9e+01  3e+00  7e-01\n",
            " 4: -2.4361e+01 -1.7215e+01  7e+01  1e+00  3e-01\n",
            " 5: -1.2523e+01 -8.5386e+00  3e+01  5e-01  1e-01\n",
            " 6: -5.1200e+00 -3.7772e+00  2e+01  2e-01  4e-02\n",
            " 7: -2.8857e+00 -2.3668e+00  9e+00  9e-02  2e-02\n",
            " 8: -1.5889e+00 -1.5702e+00  2e+00  2e-02  4e-03\n",
            " 9: -1.0766e+00 -1.3863e+00  7e-01  3e-03  7e-04\n",
            "10: -1.1845e+00 -1.3142e+00  2e-01  1e-03  2e-04\n",
            "11: -1.2237e+00 -1.2933e+00  7e-02  2e-16  6e-15\n",
            "12: -1.2722e+00 -1.2762e+00  4e-03  3e-16  9e-15\n",
            "13: -1.2751e+00 -1.2752e+00  1e-04  6e-16  7e-15\n",
            "14: -1.2752e+00 -1.2752e+00  3e-06  5e-16  8e-15\n",
            "15: -1.2752e+00 -1.2752e+00  4e-08  5e-16  9e-15\n",
            "Optimal solution found.\n"
          ]
        }
      ]
    },
    {
      "cell_type": "code",
      "source": [
        "#Print all alpha values and find the indexes of the nonzero values (SVs)\n",
        "alphas = solution['x']\n",
        "print(alphas)  #SVs are index 5, 9, 23, 42, 54"
      ],
      "metadata": {
        "colab": {
          "base_uri": "https://localhost:8080/"
        },
        "id": "b55foVtJbOlF",
        "outputId": "964e27cb-2174-4284-b6f0-497b514704c9"
      },
      "execution_count": null,
      "outputs": [
        {
          "output_type": "stream",
          "name": "stdout",
          "text": [
            "[ 2.31e-12]\n",
            "[ 1.62e-12]\n",
            "[ 8.13e-12]\n",
            "[ 6.57e-12]\n",
            "[ 3.31e-12]\n",
            "[ 2.17e-01]\n",
            "[ 7.24e-11]\n",
            "[ 6.67e-13]\n",
            "[ 3.85e-12]\n",
            "[ 1.05e+00]\n",
            "[ 1.10e-12]\n",
            "[ 4.58e-12]\n",
            "[ 8.83e-12]\n",
            "[ 2.03e-12]\n",
            "[ 1.41e-12]\n",
            "[ 5.32e-12]\n",
            "[ 7.27e-12]\n",
            "[ 8.28e-13]\n",
            "[ 4.45e-13]\n",
            "[ 5.80e-13]\n",
            "[ 5.75e-13]\n",
            "[ 8.72e-13]\n",
            "[ 2.44e-12]\n",
            "[ 6.27e-03]\n",
            "[ 1.10e-12]\n",
            "[ 8.62e-13]\n",
            "[ 8.71e-13]\n",
            "[ 4.23e-12]\n",
            "[ 6.21e-13]\n",
            "[ 5.46e-13]\n",
            "[ 2.23e-10]\n",
            "[ 8.22e-12]\n",
            "[ 1.04e-11]\n",
            "[ 6.59e-12]\n",
            "[ 7.34e-10]\n",
            "[ 1.81e-09]\n",
            "[ 3.65e-11]\n",
            "[ 2.22e-11]\n",
            "[ 2.23e-10]\n",
            "[ 3.87e-11]\n",
            "[ 3.03e-12]\n",
            "[ 2.23e-11]\n",
            "[ 1.32e-01]\n",
            "[ 4.36e-11]\n",
            "[ 1.53e-11]\n",
            "[ 1.65e-10]\n",
            "[ 1.06e-09]\n",
            "[ 1.14e-10]\n",
            "[ 1.44e-11]\n",
            "[ 6.13e-10]\n",
            "[ 4.83e-11]\n",
            "[ 1.00e-09]\n",
            "[ 3.68e-11]\n",
            "[ 1.33e-09]\n",
            "[ 1.14e+00]\n",
            "[ 2.31e-07]\n",
            "[ 7.62e-10]\n",
            "[ 1.44e-10]\n",
            "[ 6.04e-10]\n",
            "[ 4.63e-12]\n",
            "\n"
          ]
        }
      ]
    },
    {
      "cell_type": "markdown",
      "source": [
        "**Plotting the Classifying line**\n",
        "\n",
        "The following code cells compute b using the alphas found in the previous section, and then show the classifying curve, as well as highlight the support vectors as red points."
      ],
      "metadata": {
        "id": "LIw2eHZvB1MQ"
      }
    },
    {
      "cell_type": "code",
      "source": [
        "#Compute b using the kernal and summing across all data points\n",
        "sum = 0\n",
        "for i in range(60):\n",
        "  sum = sum + alphas[i]*y_data[i]*kernel(x_data[i], x_data[9])\n",
        "b = y_data[9] - sum"
      ],
      "metadata": {
        "id": "GaIlihXncbSI"
      },
      "execution_count": null,
      "outputs": []
    },
    {
      "cell_type": "code",
      "source": [
        "#Function used to predict the output (-1,1,0) given two coordinates\n",
        "def predict_values(x, y):\n",
        "    z = [[] for _ in range(1000)]\n",
        "    for i in range(len(x)):\n",
        "      for j in range(len(y)):\n",
        "        sum = 0\n",
        "        for k in range(60):\n",
        "          sum = sum + alphas[k]*y_data[k]*kernel(x_data[k], [x[i][j], y[i][j]])\n",
        "        z[i].append(math.copysign(1, sum+b))\n",
        "    return(z)\n",
        "\n",
        "#Create a grid of input coordinates with specific range and density\n",
        "density = 1000\n",
        "x_min, x_max = -5, 5\n",
        "y_min, y_max = -5, 5\n",
        "x = np.linspace(x_min, x_max, density)\n",
        "y = np.linspace(y_min, y_max, density)\n",
        "X, Y = np.meshgrid(x, y)\n",
        "\n",
        "#Calculate the output values for each input coordinate in the grid\n",
        "Z = predict_values(X, Y)\n",
        "\n",
        "#Plot the colormap to show the separating line\n",
        "plt.figure(figsize=(8, 6))\n",
        "plt.imshow(Z, extent=(x_min, x_max, y_min, y_max), origin='lower', cmap='viridis')\n",
        "plt.colorbar(label='Point Label')\n",
        "plt.xlabel('X1')\n",
        "plt.ylabel('X2')\n",
        "plt.title('Kernel-based SVM')\n",
        "plt.grid(False)\n",
        "plt.scatter(x_value[0:29], y_value[0:29])\n",
        "plt.scatter(x_value[30:59], y_value[30:59], c='green')\n",
        "\n",
        "#Plot SVs\n",
        "plt.plot(x_value[5], y_value[5],'ro')\n",
        "plt.plot(x_value[9], y_value[9],'ro')\n",
        "plt.plot(x_value[23], y_value[23],'ro')\n",
        "plt.plot(x_value[42], y_value[42],'ro')\n",
        "plt.plot(x_value[54], y_value[54],'ro')\n",
        "plt.show()"
      ],
      "metadata": {
        "colab": {
          "base_uri": "https://localhost:8080/",
          "height": 564
        },
        "id": "Mq9ErFzEjW_y",
        "outputId": "ce594cf8-3dbe-4cdc-9ea8-71a1a0455a67"
      },
      "execution_count": null,
      "outputs": [
        {
          "output_type": "display_data",
          "data": {
            "text/plain": [
              "<Figure size 800x600 with 2 Axes>"
            ],
            "image/png": "[encoded data removed]"
          },
          "metadata": {}
        }
      ]
    }
  ]
}